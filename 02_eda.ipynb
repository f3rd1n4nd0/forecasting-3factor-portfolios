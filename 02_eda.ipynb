{
 "cells": [
  {
   "cell_type": "markdown",
   "metadata": {},
   "source": [
    "#### Statistical Analysis and Visualization <br>\n",
    " We will empirically analyse the historical performance and some statistics about the SMALL LoBM and BIG HiBM Portfolios. "
   ]
  },
  {
   "cell_type": "code",
   "execution_count": 36,
   "metadata": {},
   "outputs": [],
   "source": [
    "import pandas as pd\n",
    "import numpy as np\n",
    "import matplotlib.pyplot as plt\n",
    "import os\n",
    "import seaborn as sns\n",
    "from statsmodels.tsa.stattools import adfuller\n",
    "from statsmodels.graphics.tsaplots import plot_acf, plot_pacf"
   ]
  },
  {
   "cell_type": "code",
   "execution_count": 9,
   "metadata": {},
   "outputs": [],
   "source": [
    "# show available styles\n",
    "plt.style.use('seaborn-v0_8-dark-palette')\n",
    "sns.set_context(\"talk\")\n"
   ]
  },
  {
   "cell_type": "code",
   "execution_count": 12,
   "metadata": {},
   "outputs": [],
   "source": [
    "file_path = r\"C:\\Users\\GIORDANO\\Desktop\\financial-time-series-forecasting\\data\\Developed_6_Portfolios_ME_BE-ME_cleaned_decimals.csv\"\n",
    "df = pd.read_csv(file_path)\n",
    "df['date'] = pd.to_datetime(df['date'])\n",
    "df.set_index('date', inplace=True)\n"
   ]
  },
  {
   "cell_type": "code",
   "execution_count": 13,
   "metadata": {},
   "outputs": [
    {
     "name": "stdout",
     "output_type": "stream",
     "text": [
      "\n",
      "Descriptive Statistics:\n",
      "            count      mean       std     min       25%      50%       75%  \\\n",
      "SMALL LoBM  414.0  0.004280  0.054821 -0.2476 -0.025250  0.00965  0.036825   \n",
      "ME1 BM2     414.0  0.006821  0.047400 -0.2257 -0.019350  0.01090  0.034975   \n",
      "SMALL HiBM  414.0  0.009030  0.044552 -0.2006 -0.013200  0.01120  0.036275   \n",
      "BIG LoBM    414.0  0.007613  0.045751 -0.1750 -0.016575  0.01095  0.037025   \n",
      "ME2 BM2     414.0  0.007591  0.042813 -0.1874 -0.017200  0.01090  0.033675   \n",
      "BIG HiBM    414.0  0.007336  0.048936 -0.2241 -0.020250  0.01135  0.037625   \n",
      "\n",
      "               max      skew  kurtosis  \n",
      "SMALL LoBM  0.1749 -0.586607  1.727346  \n",
      "ME1 BM2     0.1492 -0.683758  2.155353  \n",
      "SMALL HiBM  0.1531 -0.701097  2.379846  \n",
      "BIG LoBM    0.1304 -0.510043  0.844719  \n",
      "ME2 BM2     0.1226 -0.638844  1.522604  \n",
      "BIG HiBM    0.1879 -0.651964  2.625677  \n"
     ]
    }
   ],
   "source": [
    "desc_stats = df.describe().T  # Transpose for readability\n",
    "desc_stats['skew'] = df.skew()\n",
    "desc_stats['kurtosis'] = df.kurtosis()\n",
    "print(\"\\nDescriptive Statistics:\")\n",
    "print(desc_stats)"
   ]
  },
  {
   "cell_type": "code",
   "execution_count": 18,
   "metadata": {},
   "outputs": [],
   "source": [
    "import os\n",
    "\n",
    "num_portfolios = df.shape[1]\n",
    "fig, axes = plt.subplots(nrows=2, ncols=3, figsize=(18, 10), sharex=True)\n",
    "axes = axes.flatten()\n",
    "\n",
    "for i, col in enumerate(df.columns):\n",
    "    axes[i].plot(df.index, df[col], label=col, lw=1.5)\n",
    "    axes[i].set_title(col)\n",
    "    axes[i].set_ylabel(\"Return (decimal)\")\n",
    "    axes[i].legend()\n",
    "\n",
    "plt.tight_layout()\n",
    "# save the plot to a new folder in the project directory called 'plots'and call it 'returns_plot.png'\n",
    "if not os.path.exists('plots'):\n",
    "    os.makedirs('plots')\n",
    "plt.savefig('plots/returns_plot.png')\n",
    "plt.close()\n"
   ]
  },
  {
   "cell_type": "code",
   "execution_count": 19,
   "metadata": {},
   "outputs": [],
   "source": [
    "fig, axes = plt.subplots(nrows=2, ncols=3, figsize=(18, 10))\n",
    "axes = axes.flatten()\n",
    "for i, col in enumerate(df.columns):\n",
    "    axes[i].hist(df[col].dropna(), bins=30, edgecolor='k', alpha=0.75)\n",
    "    axes[i].set_title(f\"Histogram: {col}\")\n",
    "    axes[i].set_xlabel(\"Return (decimal)\")\n",
    "    axes[i].set_ylabel(\"Frequency\")\n",
    "\n",
    "plt.tight_layout()\n",
    "plt.savefig('plots/histograms.png')\n",
    "plt.close()"
   ]
  },
  {
   "cell_type": "markdown",
   "metadata": {},
   "source": [
    "Correlation Analysis: we try to understand how the portfolios are related. "
   ]
  },
  {
   "cell_type": "code",
   "execution_count": 20,
   "metadata": {},
   "outputs": [],
   "source": [
    "# Correlation matrix\n",
    "corr = df.corr()\n",
    "plt.figure(figsize=(12, 8))\n",
    "sns.heatmap(corr, annot=True, cmap='coolwarm', fmt=\".2f\", vmin=-1, vmax=1)\n",
    "plt.title(\"Correlation Matrix\")\n",
    "plt.tight_layout() \n",
    "plt.savefig('plots/correlation_matrix.png')\n",
    "plt.close()"
   ]
  },
  {
   "cell_type": "code",
   "execution_count": 23,
   "metadata": {},
   "outputs": [
    {
     "name": "stdout",
     "output_type": "stream",
     "text": [
      "\n",
      "Selected Portfolios (first 5 rows):\n",
      "            SMALL LoBM  BIG HiBM\n",
      "date                            \n",
      "1990-07-01      0.0243    0.0139\n",
      "1990-08-01     -0.1222   -0.1021\n",
      "1990-09-01     -0.1082   -0.1160\n",
      "1990-10-01      0.0520    0.0874\n",
      "1990-11-01     -0.0312   -0.0345\n"
     ]
    }
   ],
   "source": [
    "selected_portfolios = ['SMALL LoBM', 'BIG HiBM']\n",
    "df_selected = df[selected_portfolios].dropna()\n",
    "print(\"\\nSelected Portfolios (first 5 rows):\")\n",
    "print(df_selected.head())"
   ]
  },
  {
   "cell_type": "code",
   "execution_count": 35,
   "metadata": {},
   "outputs": [],
   "source": [
    "# save the selected portfolios in the data folder as 'selected_portfolios.csv' in this path C:\\Users\\GIORDANO\\Desktop\\financial-time-series-forecasting\\data\n",
    "df_selected.to_csv(r\"C:\\Users\\GIORDANO\\Desktop\\financial-time-series-forecasting\\data\\selected_portfolios.csv\")\n"
   ]
  },
  {
   "cell_type": "markdown",
   "metadata": {},
   "source": [
    "_We select the SMALL LoBM and BIG HiBM as the portfolios to forecast. <br>\n",
    "Perform the ADF test on each of the two series to evaluate their stationarity. <br>\n",
    " A non-stationary series may require differencing prior to ARIMA modeling._"
   ]
  },
  {
   "cell_type": "code",
   "execution_count": 26,
   "metadata": {},
   "outputs": [],
   "source": [
    "def adf_test(series, title=''):\n",
    "    print(f\"Results of ADF Test for {title}:\")\n",
    "    result = adfuller(series, autolag='AIC')\n",
    "    labels = ['ADF Statistic', 'p-value', '# Lags Used', 'Number of Observations']\n",
    "    for label, value in zip(labels, result[0:4]):\n",
    "        print(f\"{label} : {value}\")\n",
    "    for key, value in result[4].items():\n",
    "        print(f\"Critical Value ({key}) : {value}\")\n",
    "    print(\"\\n\")\n",
    "\n",
    "    for col in df_selected.columns:\n",
    "       adf_test(df_selected[col], title=col)"
   ]
  },
  {
   "cell_type": "code",
   "execution_count": 28,
   "metadata": {},
   "outputs": [],
   "source": [
    "for col in df_selected.columns:\n",
    "    fig, axes = plt.subplots(1, 2, figsize=(15, 4))\n",
    "    plot_acf(df_selected[col], ax=axes[0], lags=30)\n",
    "    axes[0].set_title(f\"ACF of {col}\")\n",
    "    plot_pacf(df_selected[col], ax=axes[1], lags=30)\n",
    "    axes[1].set_title(f\"PACF of {col}\")\n",
    "    plt.tight_layout()\n",
    "    plt.savefig(f'plots/{col}_acf_pacf.png')\n",
    "    plt.close()\n"
   ]
  },
  {
   "cell_type": "markdown",
   "metadata": {},
   "source": [
    "Volatility Analysis: Rolling Volatility "
   ]
  },
  {
   "cell_type": "markdown",
   "metadata": {},
   "source": [
    "_to capture volatility clustering—a common feature in financial time series—we compute the rolling standard deviation over a 12-month window and plot it._"
   ]
  },
  {
   "cell_type": "code",
   "execution_count": 30,
   "metadata": {},
   "outputs": [],
   "source": [
    "rolling_window = 12  # 12-month window for rolling volatility\n",
    "df_rolling_vol = df_selected.rolling(window=rolling_window).std()\n",
    "\n",
    "plt.figure(figsize=(12, 6))\n",
    "for col in df_selected.columns:\n",
    "    plt.plot(df_rolling_vol.index, df_rolling_vol[col], label=f\"{col} Rolling Volatility (window={rolling_window})\")\n",
    "plt.xlabel(\"Date\")\n",
    "plt.ylabel(\"Rolling Volatility (Std. Dev.)\")\n",
    "plt.title(\"Rolling Volatility of Selected Portfolios\")\n",
    "plt.legend()\n",
    "plt.tight_layout()\n",
    "plt.savefig('plots/rolling_volatility.png')\n",
    "plt.close()\n"
   ]
  },
  {
   "cell_type": "code",
   "execution_count": 31,
   "metadata": {},
   "outputs": [
    {
     "name": "stdout",
     "output_type": "stream",
     "text": [
      "Descriptive Statistics for Selected Portfolios:\n",
      "            count      mean       std     min      25%      50%       75%  \\\n",
      "SMALL LoBM  414.0  0.004280  0.054821 -0.2476 -0.02525  0.00965  0.036825   \n",
      "BIG HiBM    414.0  0.007336  0.048936 -0.2241 -0.02025  0.01135  0.037625   \n",
      "\n",
      "               max      skew  kurtosis  \n",
      "SMALL LoBM  0.1749 -0.586607  1.727346  \n",
      "BIG HiBM    0.1879 -0.651964  2.625677  \n"
     ]
    }
   ],
   "source": [
    "# Descriptive statistics for selected portfolios\n",
    "\n",
    "desc_stats = df_selected.describe().T  # Transposed for easier reading\n",
    "desc_stats['skew'] = df_selected.skew()\n",
    "desc_stats['kurtosis'] = df_selected.kurtosis()\n",
    "print(\"Descriptive Statistics for Selected Portfolios:\")\n",
    "print(desc_stats)\n"
   ]
  },
  {
   "cell_type": "code",
   "execution_count": 33,
   "metadata": {},
   "outputs": [],
   "source": [
    "# Plotting the selected time series\n",
    "plt.figure(figsize=(12, 6))\n",
    "for col in df_selected.columns:\n",
    "    plt.plot(df_selected.index, df_selected[col], label=col)\n",
    "plt.xlabel(\"Date\")\n",
    "plt.ylabel(\"Return (decimal)\")\n",
    "plt.title(\"Time Series of Selected Portfolios\")\n",
    "plt.legend()\n",
    "plt.tight_layout()\n",
    "plt.savefig('plots/selected_portfolios_time_series.png')\n",
    "plt.close()"
   ]
  },
  {
   "cell_type": "code",
   "execution_count": null,
   "metadata": {},
   "outputs": [],
   "source": []
  }
 ],
 "metadata": {
  "kernelspec": {
   "display_name": "env",
   "language": "python",
   "name": "python3"
  },
  "language_info": {
   "codemirror_mode": {
    "name": "ipython",
    "version": 3
   },
   "file_extension": ".py",
   "mimetype": "text/x-python",
   "name": "python",
   "nbconvert_exporter": "python",
   "pygments_lexer": "ipython3",
   "version": "3.12.3"
  }
 },
 "nbformat": 4,
 "nbformat_minor": 2
}
