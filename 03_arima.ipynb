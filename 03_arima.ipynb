{
 "cells": [
  {
   "cell_type": "markdown",
   "metadata": {},
   "source": [
    "#### ARIMA Model Forecasting "
   ]
  },
  {
   "cell_type": "code",
   "execution_count": null,
   "metadata": {},
   "outputs": [],
   "source": [
    "import itertools\n",
    "import math\n",
    "import pandas as pd\n",
    "import numpy as np\n",
    "import matplotlib.pyplot as plt\n",
    "import seaborn as sns\n",
    "from statsmodels.tsa.arima.model import ARIMA\n",
    "from sklearn.metrics import mean_absolute_error, mean_squared_error"
   ]
  },
  {
   "cell_type": "code",
   "execution_count": 10,
   "metadata": {},
   "outputs": [],
   "source": [
    "plt.style.use('seaborn-v0_8-dark-palette')\n",
    "sns.set_context(\"talk\")\n"
   ]
  },
  {
   "cell_type": "code",
   "execution_count": 11,
   "metadata": {},
   "outputs": [],
   "source": [
    "# creating a grid search for ARIMA parameters\n",
    "def evaluate_arima_model(time_series, p_values, d_values, q_values):\n",
    "    \"\"\"\n",
    "    Grid search to find the best ARIMA model for a time series based on AIC.\n",
    "    \n",
    "    Parameters:\n",
    "        time_series (pd.Series): The time series data.\n",
    "        p_values (iterable): Candidate AR (p) orders.\n",
    "        d_values (iterable): Candidate differencing (d) orders.\n",
    "        q_values (iterable): Candidate MA (q) orders.\n",
    "        \n",
    "    Returns:\n",
    "        best_order (tuple): The (p,d,q) that produced the lowest AIC.\n",
    "        best_aic (float): The lowest AIC value.\n",
    "        best_model (ARIMAResultsWrapper): The fitted ARIMA model for best_order.\n",
    "    \"\"\"\n",
    "    best_aic = float(\"inf\")\n",
    "    best_order = None\n",
    "    best_model = None\n",
    "    for p, d, q in itertools.product(p_values, d_values, q_values):\n",
    "        try:\n",
    "            model = ARIMA(time_series, order=(p, d, q))\n",
    "            model_fit = model.fit()\n",
    "            aic = model_fit.aic\n",
    "            if aic < best_aic:\n",
    "                best_aic = aic\n",
    "                best_order = (p, d, q)\n",
    "                best_model = model_fit\n",
    "        except Exception as e:\n",
    "            continue\n",
    "    return best_order, best_aic, best_model\n"
   ]
  },
  {
   "cell_type": "code",
   "execution_count": 13,
   "metadata": {},
   "outputs": [
    {
     "name": "stdout",
     "output_type": "stream",
     "text": [
      "Dataset loaded. Shape: (414, 2)\n",
      "            SMALL LoBM  BIG HiBM\n",
      "date                            \n",
      "1990-07-01      0.0243    0.0139\n",
      "1990-08-01     -0.1222   -0.1021\n",
      "1990-09-01     -0.1082   -0.1160\n",
      "1990-10-01      0.0520    0.0874\n",
      "1990-11-01     -0.0312   -0.0345\n"
     ]
    }
   ],
   "source": [
    "file_path = r\"C:\\Users\\GIORDANO\\Desktop\\financial-time-series-forecasting\\data\\selected_portfolios.csv\"\n",
    "\n",
    "# Load the CSV file with a DateTime index. \n",
    "# The CSV should contain the two selected portfolios (e.g., 'SMALL LoBM' and 'BIG HiBM').\n",
    "df_arima = pd.read_csv(file_path, parse_dates=True, index_col='date')\n",
    "print(\"Dataset loaded. Shape:\", df_arima.shape)\n",
    "print(df_arima.head())"
   ]
  },
  {
   "cell_type": "code",
   "execution_count": 14,
   "metadata": {},
   "outputs": [
    {
     "name": "stdout",
     "output_type": "stream",
     "text": [
      "\n",
      "Training set period: 1990-07 to 2015-12\n",
      "Testing set period: 2016-01 to 2024-12\n"
     ]
    }
   ],
   "source": [
    "train = df_arima.loc[:'2015-12-31']\n",
    "test = df_arima.loc['2016-01-01':]\n",
    "\n",
    "print(\"\\nTraining set period:\", train.index.min().strftime('%Y-%m'), \"to\", train.index.max().strftime('%Y-%m'))\n",
    "print(\"Testing set period:\", test.index.min().strftime('%Y-%m'), \"to\", test.index.max().strftime('%Y-%m'))"
   ]
  },
  {
   "cell_type": "code",
   "execution_count": 15,
   "metadata": {},
   "outputs": [],
   "source": [
    "# 3. Define Candidate Orders for Grid Search\n",
    "# The ARIMA model has three parameters: p, d, and q.\n",
    "# We will use a grid search to find the best combination of these parameters.\n",
    "p_values = range(0, 4)  # Try p = 0,1,2,3\n",
    "d_values = range(0, 2)  # Try d = 0,1 (returns are often stationary, so d may be 0)\n",
    "q_values = range(0, 4)  # Try q = 0,1,2,3\n"
   ]
  },
  {
   "cell_type": "code",
   "execution_count": 18,
   "metadata": {},
   "outputs": [
    {
     "name": "stdout",
     "output_type": "stream",
     "text": [
      "\n",
      "Evaluating ARIMA model for portfolio: SMALL LoBM\n"
     ]
    },
    {
     "name": "stderr",
     "output_type": "stream",
     "text": [
      "c:\\Users\\GIORDANO\\Desktop\\financial-time-series-forecasting\\env\\Lib\\site-packages\\statsmodels\\base\\model.py:607: ConvergenceWarning: Maximum Likelihood optimization failed to converge. Check mle_retvals\n",
      "  warnings.warn(\"Maximum Likelihood optimization failed to \"\n",
      "c:\\Users\\GIORDANO\\Desktop\\financial-time-series-forecasting\\env\\Lib\\site-packages\\statsmodels\\base\\model.py:607: ConvergenceWarning: Maximum Likelihood optimization failed to converge. Check mle_retvals\n",
      "  warnings.warn(\"Maximum Likelihood optimization failed to \"\n",
      "c:\\Users\\GIORDANO\\Desktop\\financial-time-series-forecasting\\env\\Lib\\site-packages\\statsmodels\\tsa\\statespace\\sarimax.py:966: UserWarning: Non-stationary starting autoregressive parameters found. Using zeros as starting parameters.\n",
      "  warn('Non-stationary starting autoregressive parameters'\n",
      "c:\\Users\\GIORDANO\\Desktop\\financial-time-series-forecasting\\env\\Lib\\site-packages\\statsmodels\\tsa\\statespace\\sarimax.py:978: UserWarning: Non-invertible starting MA parameters found. Using zeros as starting parameters.\n",
      "  warn('Non-invertible starting MA parameters found.'\n",
      "c:\\Users\\GIORDANO\\Desktop\\financial-time-series-forecasting\\env\\Lib\\site-packages\\statsmodels\\base\\model.py:607: ConvergenceWarning: Maximum Likelihood optimization failed to converge. Check mle_retvals\n",
      "  warnings.warn(\"Maximum Likelihood optimization failed to \"\n",
      "c:\\Users\\GIORDANO\\Desktop\\financial-time-series-forecasting\\env\\Lib\\site-packages\\statsmodels\\base\\model.py:607: ConvergenceWarning: Maximum Likelihood optimization failed to converge. Check mle_retvals\n",
      "  warnings.warn(\"Maximum Likelihood optimization failed to \"\n",
      "c:\\Users\\GIORDANO\\Desktop\\financial-time-series-forecasting\\env\\Lib\\site-packages\\statsmodels\\base\\model.py:607: ConvergenceWarning: Maximum Likelihood optimization failed to converge. Check mle_retvals\n",
      "  warnings.warn(\"Maximum Likelihood optimization failed to \"\n",
      "c:\\Users\\GIORDANO\\Desktop\\financial-time-series-forecasting\\env\\Lib\\site-packages\\statsmodels\\base\\model.py:607: ConvergenceWarning: Maximum Likelihood optimization failed to converge. Check mle_retvals\n",
      "  warnings.warn(\"Maximum Likelihood optimization failed to \"\n",
      "c:\\Users\\GIORDANO\\Desktop\\financial-time-series-forecasting\\env\\Lib\\site-packages\\statsmodels\\tsa\\statespace\\sarimax.py:966: UserWarning: Non-stationary starting autoregressive parameters found. Using zeros as starting parameters.\n",
      "  warn('Non-stationary starting autoregressive parameters'\n",
      "c:\\Users\\GIORDANO\\Desktop\\financial-time-series-forecasting\\env\\Lib\\site-packages\\statsmodels\\tsa\\statespace\\sarimax.py:978: UserWarning: Non-invertible starting MA parameters found. Using zeros as starting parameters.\n",
      "  warn('Non-invertible starting MA parameters found.'\n",
      "c:\\Users\\GIORDANO\\Desktop\\financial-time-series-forecasting\\env\\Lib\\site-packages\\statsmodels\\base\\model.py:607: ConvergenceWarning: Maximum Likelihood optimization failed to converge. Check mle_retvals\n",
      "  warnings.warn(\"Maximum Likelihood optimization failed to \"\n"
     ]
    },
    {
     "name": "stdout",
     "output_type": "stream",
     "text": [
      "Best ARIMA order for SMALL LoBM: (0, 0, 1) with AIC: -919.41\n",
      "\n",
      "Evaluating ARIMA model for portfolio: BIG HiBM\n"
     ]
    },
    {
     "name": "stderr",
     "output_type": "stream",
     "text": [
      "c:\\Users\\GIORDANO\\Desktop\\financial-time-series-forecasting\\env\\Lib\\site-packages\\statsmodels\\base\\model.py:607: ConvergenceWarning: Maximum Likelihood optimization failed to converge. Check mle_retvals\n",
      "  warnings.warn(\"Maximum Likelihood optimization failed to \"\n",
      "c:\\Users\\GIORDANO\\Desktop\\financial-time-series-forecasting\\env\\Lib\\site-packages\\statsmodels\\tsa\\statespace\\sarimax.py:966: UserWarning: Non-stationary starting autoregressive parameters found. Using zeros as starting parameters.\n",
      "  warn('Non-stationary starting autoregressive parameters'\n",
      "c:\\Users\\GIORDANO\\Desktop\\financial-time-series-forecasting\\env\\Lib\\site-packages\\statsmodels\\tsa\\statespace\\sarimax.py:978: UserWarning: Non-invertible starting MA parameters found. Using zeros as starting parameters.\n",
      "  warn('Non-invertible starting MA parameters found.'\n",
      "c:\\Users\\GIORDANO\\Desktop\\financial-time-series-forecasting\\env\\Lib\\site-packages\\statsmodels\\base\\model.py:607: ConvergenceWarning: Maximum Likelihood optimization failed to converge. Check mle_retvals\n",
      "  warnings.warn(\"Maximum Likelihood optimization failed to \"\n",
      "c:\\Users\\GIORDANO\\Desktop\\financial-time-series-forecasting\\env\\Lib\\site-packages\\statsmodels\\base\\model.py:607: ConvergenceWarning: Maximum Likelihood optimization failed to converge. Check mle_retvals\n",
      "  warnings.warn(\"Maximum Likelihood optimization failed to \"\n",
      "c:\\Users\\GIORDANO\\Desktop\\financial-time-series-forecasting\\env\\Lib\\site-packages\\statsmodels\\base\\model.py:607: ConvergenceWarning: Maximum Likelihood optimization failed to converge. Check mle_retvals\n",
      "  warnings.warn(\"Maximum Likelihood optimization failed to \"\n",
      "c:\\Users\\GIORDANO\\Desktop\\financial-time-series-forecasting\\env\\Lib\\site-packages\\statsmodels\\base\\model.py:607: ConvergenceWarning: Maximum Likelihood optimization failed to converge. Check mle_retvals\n",
      "  warnings.warn(\"Maximum Likelihood optimization failed to \"\n",
      "c:\\Users\\GIORDANO\\Desktop\\financial-time-series-forecasting\\env\\Lib\\site-packages\\statsmodels\\base\\model.py:607: ConvergenceWarning: Maximum Likelihood optimization failed to converge. Check mle_retvals\n",
      "  warnings.warn(\"Maximum Likelihood optimization failed to \"\n",
      "c:\\Users\\GIORDANO\\Desktop\\financial-time-series-forecasting\\env\\Lib\\site-packages\\statsmodels\\base\\model.py:607: ConvergenceWarning: Maximum Likelihood optimization failed to converge. Check mle_retvals\n",
      "  warnings.warn(\"Maximum Likelihood optimization failed to \"\n",
      "c:\\Users\\GIORDANO\\Desktop\\financial-time-series-forecasting\\env\\Lib\\site-packages\\statsmodels\\tsa\\statespace\\sarimax.py:966: UserWarning: Non-stationary starting autoregressive parameters found. Using zeros as starting parameters.\n",
      "  warn('Non-stationary starting autoregressive parameters'\n",
      "c:\\Users\\GIORDANO\\Desktop\\financial-time-series-forecasting\\env\\Lib\\site-packages\\statsmodels\\tsa\\statespace\\sarimax.py:978: UserWarning: Non-invertible starting MA parameters found. Using zeros as starting parameters.\n",
      "  warn('Non-invertible starting MA parameters found.'\n"
     ]
    },
    {
     "name": "stdout",
     "output_type": "stream",
     "text": [
      "Best ARIMA order for BIG HiBM: (3, 0, 0) with AIC: -995.81\n"
     ]
    },
    {
     "name": "stderr",
     "output_type": "stream",
     "text": [
      "c:\\Users\\GIORDANO\\Desktop\\financial-time-series-forecasting\\env\\Lib\\site-packages\\statsmodels\\base\\model.py:607: ConvergenceWarning: Maximum Likelihood optimization failed to converge. Check mle_retvals\n",
      "  warnings.warn(\"Maximum Likelihood optimization failed to \"\n"
     ]
    }
   ],
   "source": [
    "results = {}  # Dictionary to store results\n",
    "for col in df_arima.columns:\n",
    "    print(f\"\\nEvaluating ARIMA model for portfolio: {col}\")\n",
    "    best_order, best_aic, best_model = evaluate_arima_model(train[col], p_values, d_values, q_values)\n",
    "    \n",
    "    if best_model is None:\n",
    "        print(\"No suitable ARIMA model could be fit for\", col)\n",
    "        continue\n",
    "\n",
    "    print(f\"Best ARIMA order for {col}: {best_order} with AIC: {best_aic:.2f}\")"
   ]
  },
  {
   "cell_type": "code",
   "execution_count": 20,
   "metadata": {},
   "outputs": [
    {
     "name": "stdout",
     "output_type": "stream",
     "text": [
      "MAE: 0.0393\n",
      "RMSE: 0.0522\n"
     ]
    }
   ],
   "source": [
    "  # Forecast for the length of the test set\n",
    "  n_periods = len(test)\n",
    "  forecast_result = best_model.get_forecast(steps=n_periods)\n",
    "  forecast = forecast_result.predicted_mean\n",
    "  conf_int = forecast_result.conf_int()\n",
    "  \n",
    "  # Compute error metrics: MAE and RMSE\n",
    "  mae = mean_absolute_error(test[col], forecast)\n",
    "  rmse = math.sqrt(mean_squared_error(test[col], forecast))\n",
    "  \n",
    "  # Save results in the dictionary\n",
    "  results[col] = {\n",
    "      \"best_order\": best_order,\n",
    "      \"aic\": best_aic,\n",
    "      \"model\": best_model,\n",
    "      \"forecast\": forecast,\n",
    "      \"conf_int\": conf_int,\n",
    "      \"mae\": mae,\n",
    "      \"rmse\": rmse\n",
    "  }\n",
    "  \n",
    "  print(f\"MAE: {mae:.4f}\")\n",
    "  print(f\"RMSE: {rmse:.4f}\")"
   ]
  },
  {
   "cell_type": "code",
   "execution_count": 24,
   "metadata": {},
   "outputs": [],
   "source": [
    "# Plot Forecasts vs. Actual Data\n",
    "plt.figure(figsize=(12, 6))\n",
    "plt.plot(train[col], label='Training Data', color='blue')\n",
    "plt.plot(test[col], label='Test Data', color='green')\n",
    "plt.plot(forecast.index, forecast, label='Forecast', color='red', linestyle='--')\n",
    "plt.fill_between(forecast.index, conf_int.iloc[:, 0], conf_int.iloc[:, 1],\n",
    "                 color='pink', alpha=0.3, label='95% Confidence Interval')\n",
    "plt.title(f'ARIMA Forecast for {col}')\n",
    "plt.xlabel('Date')\n",
    "plt.ylabel('Return (decimal)')\n",
    "plt.legend()\n",
    "# save the plot in plots folder\n",
    "plt.savefig(f'plots/{col}_arima_forecast.png')\n",
    "plt.close()"
   ]
  },
  {
   "cell_type": "code",
   "execution_count": 25,
   "metadata": {},
   "outputs": [],
   "source": [
    "# Residuals Analysis\n",
    "residuals = best_model.resid\n",
    "plt.figure(figsize=(12, 6))\n",
    "    \n",
    "# Residuals over time\n",
    "plt.subplot(2, 1, 1)\n",
    "plt.plot(residuals)\n",
    "plt.title(f'Residuals of ARIMA Model for {col}')\n",
    "plt.xlabel('Date')\n",
    "plt.ylabel('Residuals')\n",
    "\n",
    "# save the plot in plots folder\n",
    "plt.savefig(f'plots/{col}_arima_residuals.png')\n",
    "plt.close()"
   ]
  },
  {
   "cell_type": "code",
   "execution_count": 27,
   "metadata": {},
   "outputs": [
    {
     "name": "stdout",
     "output_type": "stream",
     "text": [
      "Performance Metrics for BIG HiBM: MAE = 0.0393, RMSE = 0.0522\n"
     ]
    }
   ],
   "source": [
    "# Histogram and KDE of residuals\n",
    "plt.subplot(2, 1, 2)\n",
    "sns.histplot(residuals, bins=30, kde=True, color='purple')\n",
    "plt.title(f'Residual Distribution for {col}')\n",
    "plt.xlabel('Residuals')\n",
    "plt.ylabel('Frequency')\n",
    "    \n",
    "# save the plot in plots folder\n",
    "plt.savefig(f'plots/{col}_arima_residuals_hist.png')\n",
    "plt.close()\n",
    "    \n",
    "print(f\"Performance Metrics for {col}: MAE = {mae:.4f}, RMSE = {rmse:.4f}\")"
   ]
  },
  {
   "cell_type": "code",
   "execution_count": 28,
   "metadata": {},
   "outputs": [
    {
     "name": "stdout",
     "output_type": "stream",
     "text": [
      "\n",
      "Summary of ARIMA Forecasting Results:\n",
      "BIG HiBM: Best Order: (3, 0, 0), AIC: -995.81, MAE: 0.0393, RMSE: 0.0522\n"
     ]
    }
   ],
   "source": [
    "print(\"\\nSummary of ARIMA Forecasting Results:\")\n",
    "for col, res in results.items():\n",
    "    print(f\"{col}: Best Order: {res['best_order']}, AIC: {res['aic']:.2f}, MAE: {res['mae']:.4f}, RMSE: {res['rmse']:.4f}\")"
   ]
  }
 ],
 "metadata": {
  "kernelspec": {
   "display_name": "env",
   "language": "python",
   "name": "python3"
  },
  "language_info": {
   "codemirror_mode": {
    "name": "ipython",
    "version": 3
   },
   "file_extension": ".py",
   "mimetype": "text/x-python",
   "name": "python",
   "nbconvert_exporter": "python",
   "pygments_lexer": "ipython3",
   "version": "3.12.3"
  }
 },
 "nbformat": 4,
 "nbformat_minor": 2
}
